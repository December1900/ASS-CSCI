{
 "cells": [
  {
   "cell_type": "code",
   "execution_count": 1,
   "metadata": {},
   "outputs": [],
   "source": [
    "import re \n",
    "import pandas as pd \n",
    "pd.set_option(\"display.max_colwidth\", 200)\n",
    "import numpy as np \n",
    "import matplotlib.pyplot as plt \n",
    "import seaborn as sns\n",
    "import string\n",
    "import nltk\n",
    "from nltk.stem.porter import *\n",
    "from tqdm import tqdm\n",
    "import gensim\n",
    "from sklearn.linear_model import LogisticRegression\n",
    "from scipy import stats \n",
    "from sklearn import metrics \n",
    "from sklearn.metrics import mean_squared_error,mean_absolute_error, make_scorer,classification_report,confusion_matrix,accuracy_score,roc_auc_score,roc_curve\n",
    "from sklearn.model_selection import train_test_split,cross_val_score,KFold\n",
    "from sklearn.model_selection import train_test_split\n",
    "from sklearn.metrics import f1_score\n",
    "from sklearn.naive_bayes import BernoulliNB\n",
    "from sklearn import svm\n",
    "from sklearn.ensemble import RandomForestClassifier\n",
    "import xgboost as xgb\n",
    "from xgboost import XGBClassifier\n",
    "import warnings \n",
    "warnings.filterwarnings(\"ignore\")\n",
    "\n",
    "%matplotlib inline"
   ]
  },
  {
   "cell_type": "code",
   "execution_count": 2,
   "metadata": {},
   "outputs": [
    {
     "data": {
      "text/plain": [
       "((31962, 3), (10655, 2))"
      ]
     },
     "execution_count": 2,
     "metadata": {},
     "output_type": "execute_result"
    }
   ],
   "source": [
    "train_data = pd.read_csv('train.csv')\n",
    "test_data = pd.read_csv('test.csv')\n",
    "\n",
    "train_data.shape, test_data.shape"
   ]
  },
  {
   "cell_type": "code",
   "execution_count": 3,
   "metadata": {},
   "outputs": [
    {
     "data": {
      "text/html": [
       "<div>\n",
       "<style scoped>\n",
       "    .dataframe tbody tr th:only-of-type {\n",
       "        vertical-align: middle;\n",
       "    }\n",
       "\n",
       "    .dataframe tbody tr th {\n",
       "        vertical-align: top;\n",
       "    }\n",
       "\n",
       "    .dataframe thead th {\n",
       "        text-align: right;\n",
       "    }\n",
       "</style>\n",
       "<table border=\"1\" class=\"dataframe\">\n",
       "  <thead>\n",
       "    <tr style=\"text-align: right;\">\n",
       "      <th></th>\n",
       "      <th>id</th>\n",
       "      <th>label</th>\n",
       "      <th>tweet</th>\n",
       "    </tr>\n",
       "  </thead>\n",
       "  <tbody>\n",
       "    <tr>\n",
       "      <th>0</th>\n",
       "      <td>1</td>\n",
       "      <td>0</td>\n",
       "      <td>@user when a father is dysfunctional and is so selfish he drags his kids into his dysfunction.   #run</td>\n",
       "    </tr>\n",
       "    <tr>\n",
       "      <th>1</th>\n",
       "      <td>2</td>\n",
       "      <td>0</td>\n",
       "      <td>@user @user thanks for #lyft credit i can't use cause they don't offer wheelchair vans in pdx.    #disapointed #getthanked</td>\n",
       "    </tr>\n",
       "    <tr>\n",
       "      <th>2</th>\n",
       "      <td>3</td>\n",
       "      <td>0</td>\n",
       "      <td>bihday your majesty</td>\n",
       "    </tr>\n",
       "    <tr>\n",
       "      <th>3</th>\n",
       "      <td>4</td>\n",
       "      <td>0</td>\n",
       "      <td>#model   i love u take with u all the time in urð±!!! ðððð",
       "ð¦ð¦ð¦</td>\n",
       "    </tr>\n",
       "    <tr>\n",
       "      <th>4</th>\n",
       "      <td>5</td>\n",
       "      <td>0</td>\n",
       "      <td>factsguide: society now    #motivation</td>\n",
       "    </tr>\n",
       "    <tr>\n",
       "      <th>5</th>\n",
       "      <td>6</td>\n",
       "      <td>0</td>\n",
       "      <td>[2/2] huge fan fare and big talking before they leave. chaos and pay disputes when they get there. #allshowandnogo</td>\n",
       "    </tr>\n",
       "    <tr>\n",
       "      <th>6</th>\n",
       "      <td>7</td>\n",
       "      <td>0</td>\n",
       "      <td>@user camping tomorrow @user @user @user @user @user @user @user dannyâ¦</td>\n",
       "    </tr>\n",
       "    <tr>\n",
       "      <th>7</th>\n",
       "      <td>8</td>\n",
       "      <td>0</td>\n",
       "      <td>the next school year is the year for exams.ð¯ can't think about that ð­ #school #exams   #hate #imagine #actorslife #revolutionschool #girl</td>\n",
       "    </tr>\n",
       "    <tr>\n",
       "      <th>8</th>\n",
       "      <td>9</td>\n",
       "      <td>0</td>\n",
       "      <td>we won!!! love the land!!! #allin #cavs #champions #cleveland #clevelandcavaliers  â¦</td>\n",
       "    </tr>\n",
       "    <tr>\n",
       "      <th>9</th>\n",
       "      <td>10</td>\n",
       "      <td>0</td>\n",
       "      <td>@user @user welcome here !  i'm   it's so #gr8 !</td>\n",
       "    </tr>\n",
       "  </tbody>\n",
       "</table>\n",
       "</div>"
      ],
      "text/plain": [
       "   id  label  \\\n",
       "0   1      0   \n",
       "1   2      0   \n",
       "2   3      0   \n",
       "3   4      0   \n",
       "4   5      0   \n",
       "5   6      0   \n",
       "6   7      0   \n",
       "7   8      0   \n",
       "8   9      0   \n",
       "9  10      0   \n",
       "\n",
       "                                                                                                                                             tweet  \n",
       "0                                            @user when a father is dysfunctional and is so selfish he drags his kids into his dysfunction.   #run  \n",
       "1                       @user @user thanks for #lyft credit i can't use cause they don't offer wheelchair vans in pdx.    #disapointed #getthanked  \n",
       "2                                                                                                                              bihday your majesty  \n",
       "3                                                           #model   i love u take with u all the time in urð±!!! ðððð\n",
       "ð¦ð¦ð¦    \n",
       "4                                                                                                           factsguide: society now    #motivation  \n",
       "5                             [2/2] huge fan fare and big talking before they leave. chaos and pay disputes when they get there. #allshowandnogo    \n",
       "6                                                                        @user camping tomorrow @user @user @user @user @user @user @user dannyâ¦  \n",
       "7  the next school year is the year for exams.ð¯ can't think about that ð­ #school #exams   #hate #imagine #actorslife #revolutionschool #girl  \n",
       "8                                                          we won!!! love the land!!! #allin #cavs #champions #cleveland #clevelandcavaliers  â¦   \n",
       "9                                                                                                @user @user welcome here !  i'm   it's so #gr8 !   "
      ]
     },
     "execution_count": 3,
     "metadata": {},
     "output_type": "execute_result"
    }
   ],
   "source": [
    "train_data[:10]"
   ]
  },
  {
   "cell_type": "code",
   "execution_count": 4,
   "metadata": {},
   "outputs": [
    {
     "data": {
      "text/plain": [
       "0    29720\n",
       "1     2242\n",
       "Name: label, dtype: int64"
      ]
     },
     "execution_count": 4,
     "metadata": {},
     "output_type": "execute_result"
    }
   ],
   "source": [
    "train_data['label'].value_counts()"
   ]
  },
  {
   "cell_type": "code",
   "execution_count": 5,
   "metadata": {},
   "outputs": [
    {
     "data": {
      "text/plain": [
       "<matplotlib.legend.Legend at 0x12a6e64c0>"
      ]
     },
     "execution_count": 5,
     "metadata": {},
     "output_type": "execute_result"
    },
    {
     "data": {
      "image/png": "[encoded data removed]",
      "text/plain": [
       "<Figure size 576x360 with 1 Axes>"
      ]
     },
     "metadata": {
      "needs_background": "light"
     },
     "output_type": "display_data"
    }
   ],
   "source": [
    "train_length = train_data['tweet'].str.len()\n",
    "test_length = test_data['tweet'].str.len()\n",
    "plt.figure(figsize=(8, 5))\n",
    "plt.hist(train_length, bins=50, label=\"train_tweets\", color='skyblue')\n",
    "plt.hist(test_length, bins=50, label=\"test_tweets\")\n",
    "plt.legend()"
   ]
  },
  {
   "cell_type": "markdown",
   "metadata": {},
   "source": [
    "# Pre-processing\n",
    "## Data cleaning"
   ]
  },
  {
   "cell_type": "code",
   "execution_count": 6,
   "metadata": {},
   "outputs": [],
   "source": [
    "merge = train_data.append(test_data, ignore_index=True, sort=False)\n",
    "\n",
    "def remove_pattern(input_txt, pattern):\n",
    "    r = re.findall(pattern, input_txt)\n",
    "    for i in r:\n",
    "        input_txt = re.sub(i, '', input_txt)\n",
    "        \n",
    "    return input_txt"
   ]
  },
  {
   "cell_type": "code",
   "execution_count": 7,
   "metadata": {},
   "outputs": [
    {
     "data": {
      "text/html": [
       "<div>\n",
       "<style scoped>\n",
       "    .dataframe tbody tr th:only-of-type {\n",
       "        vertical-align: middle;\n",
       "    }\n",
       "\n",
       "    .dataframe tbody tr th {\n",
       "        vertical-align: top;\n",
       "    }\n",
       "\n",
       "    .dataframe thead th {\n",
       "        text-align: right;\n",
       "    }\n",
       "</style>\n",
       "<table border=\"1\" class=\"dataframe\">\n",
       "  <thead>\n",
       "    <tr style=\"text-align: right;\">\n",
       "      <th></th>\n",
       "      <th>id</th>\n",
       "      <th>label</th>\n",
       "      <th>tweet</th>\n",
       "      <th>clean_tweet</th>\n",
       "    </tr>\n",
       "  </thead>\n",
       "  <tbody>\n",
       "    <tr>\n",
       "      <th>0</th>\n",
       "      <td>1</td>\n",
       "      <td>0.0</td>\n",
       "      <td>@user when a father is dysfunctional and is so selfish he drags his kids into his dysfunction.   #run</td>\n",
       "      <td>when father dysfunctional and selfish drags his kids into his dysfunction #run</td>\n",
       "    </tr>\n",
       "    <tr>\n",
       "      <th>1</th>\n",
       "      <td>2</td>\n",
       "      <td>0.0</td>\n",
       "      <td>@user @user thanks for #lyft credit i can't use cause they don't offer wheelchair vans in pdx.    #disapointed #getthanked</td>\n",
       "      <td>thanks for #lyft credit can use cause they don offer wheelchair vans pdx #disapointed #getthanked</td>\n",
       "    </tr>\n",
       "    <tr>\n",
       "      <th>2</th>\n",
       "      <td>3</td>\n",
       "      <td>0.0</td>\n",
       "      <td>bihday your majesty</td>\n",
       "      <td>bihday your majesty</td>\n",
       "    </tr>\n",
       "    <tr>\n",
       "      <th>3</th>\n",
       "      <td>4</td>\n",
       "      <td>0.0</td>\n",
       "      <td>#model   i love u take with u all the time in urð±!!! ðððð",
       "ð¦ð¦ð¦</td>\n",
       "      <td>#model love take with all the time</td>\n",
       "    </tr>\n",
       "    <tr>\n",
       "      <th>4</th>\n",
       "      <td>5</td>\n",
       "      <td>0.0</td>\n",
       "      <td>factsguide: society now    #motivation</td>\n",
       "      <td>factsguide society now #motivation</td>\n",
       "    </tr>\n",
       "  </tbody>\n",
       "</table>\n",
       "</div>"
      ],
      "text/plain": [
       "   id  label  \\\n",
       "0   1    0.0   \n",
       "1   2    0.0   \n",
       "2   3    0.0   \n",
       "3   4    0.0   \n",
       "4   5    0.0   \n",
       "\n",
       "                                                                                                                        tweet  \\\n",
       "0                       @user when a father is dysfunctional and is so selfish he drags his kids into his dysfunction.   #run   \n",
       "1  @user @user thanks for #lyft credit i can't use cause they don't offer wheelchair vans in pdx.    #disapointed #getthanked   \n",
       "2                                                                                                         bihday your majesty   \n",
       "3                                      #model   i love u take with u all the time in urð±!!! ðððð\n",
       "ð¦ð¦ð¦     \n",
       "4                                                                                      factsguide: society now    #motivation   \n",
       "\n",
       "                                                                                         clean_tweet  \n",
       "0                     when father dysfunctional and selfish drags his kids into his dysfunction #run  \n",
       "1  thanks for #lyft credit can use cause they don offer wheelchair vans pdx #disapointed #getthanked  \n",
       "2                                                                                bihday your majesty  \n",
       "3                                                                 #model love take with all the time  \n",
       "4                                                                 factsguide society now #motivation  "
      ]
     },
     "execution_count": 7,
     "metadata": {},
     "output_type": "execute_result"
    }
   ],
   "source": [
    "# Remove some pattern to get clean tweets\n",
    "merge['clean_tweet'] = np.vectorize(remove_pattern)(merge['tweet'], \"@[\\w]*\") \n",
    "merge['clean_tweet'] = merge['clean_tweet'].str.replace(\"[^a-zA-Z#]\", \" \")\n",
    "merge['clean_tweet'] = merge['clean_tweet'].apply(lambda x: ' '.join([w for w in x.split() if len(w)>2]))\n",
    "merge.head()"
   ]
  },
  {
   "cell_type": "code",
   "execution_count": 8,
   "metadata": {},
   "outputs": [
    {
     "data": {
      "text/plain": [
       "0                          [when, father, dysfunctional, and, selfish, drags, his, kids, into, his, dysfunction, #run]\n",
       "1    [thanks, for, #lyft, credit, can, use, cause, they, don, offer, wheelchair, vans, pdx, #disapointed, #getthanked]\n",
       "2                                                                                              [bihday, your, majesty]\n",
       "3                                                                           [#model, love, take, with, all, the, time]\n",
       "4                                                                              [factsguide, society, now, #motivation]\n",
       "Name: clean_tweet, dtype: object"
      ]
     },
     "execution_count": 8,
     "metadata": {},
     "output_type": "execute_result"
    }
   ],
   "source": [
    "# Tokenizer\n",
    "tokenizer = merge['clean_tweet'].apply(lambda x: x.split()) \n",
    "tokenizer.head()"
   ]
  },
  {
   "cell_type": "code",
   "execution_count": 9,
   "metadata": {},
   "outputs": [
    {
     "data": {
      "text/plain": [
       "0                               [when, father, dysfunct, and, selfish, drag, hi, kid, into, hi, dysfunct, #run]\n",
       "1    [thank, for, #lyft, credit, can, use, caus, they, don, offer, wheelchair, van, pdx, #disapoint, #getthank]\n",
       "2                                                                                       [bihday, your, majesti]\n",
       "3                                                                    [#model, love, take, with, all, the, time]\n",
       "4                                                                             [factsguid, societi, now, #motiv]\n",
       "Name: clean_tweet, dtype: object"
      ]
     },
     "execution_count": 9,
     "metadata": {},
     "output_type": "execute_result"
    }
   ],
   "source": [
    "stemmer = PorterStemmer()\n",
    "tokenizer = tokenizer.apply(lambda x: [stemmer.stem(i) for i in x]) \n",
    "tokenizer.head()"
   ]
  },
  {
   "cell_type": "code",
   "execution_count": 10,
   "metadata": {},
   "outputs": [
    {
     "data": {
      "text/html": [
       "<div>\n",
       "<style scoped>\n",
       "    .dataframe tbody tr th:only-of-type {\n",
       "        vertical-align: middle;\n",
       "    }\n",
       "\n",
       "    .dataframe tbody tr th {\n",
       "        vertical-align: top;\n",
       "    }\n",
       "\n",
       "    .dataframe thead th {\n",
       "        text-align: right;\n",
       "    }\n",
       "</style>\n",
       "<table border=\"1\" class=\"dataframe\">\n",
       "  <thead>\n",
       "    <tr style=\"text-align: right;\">\n",
       "      <th></th>\n",
       "      <th>id</th>\n",
       "      <th>label</th>\n",
       "      <th>tweet</th>\n",
       "      <th>clean_tweet</th>\n",
       "    </tr>\n",
       "  </thead>\n",
       "  <tbody>\n",
       "    <tr>\n",
       "      <th>0</th>\n",
       "      <td>1</td>\n",
       "      <td>0.0</td>\n",
       "      <td>@user when a father is dysfunctional and is so selfish he drags his kids into his dysfunction.   #run</td>\n",
       "      <td>when father dysfunct and selfish drag hi kid into hi dysfunct #run</td>\n",
       "    </tr>\n",
       "    <tr>\n",
       "      <th>1</th>\n",
       "      <td>2</td>\n",
       "      <td>0.0</td>\n",
       "      <td>@user @user thanks for #lyft credit i can't use cause they don't offer wheelchair vans in pdx.    #disapointed #getthanked</td>\n",
       "      <td>thank for #lyft credit can use caus they don offer wheelchair van pdx #disapoint #getthank</td>\n",
       "    </tr>\n",
       "    <tr>\n",
       "      <th>2</th>\n",
       "      <td>3</td>\n",
       "      <td>0.0</td>\n",
       "      <td>bihday your majesty</td>\n",
       "      <td>bihday your majesti</td>\n",
       "    </tr>\n",
       "    <tr>\n",
       "      <th>3</th>\n",
       "      <td>4</td>\n",
       "      <td>0.0</td>\n",
       "      <td>#model   i love u take with u all the time in urð±!!! ðððð",
       "ð¦ð¦ð¦</td>\n",
       "      <td>#model love take with all the time</td>\n",
       "    </tr>\n",
       "    <tr>\n",
       "      <th>4</th>\n",
       "      <td>5</td>\n",
       "      <td>0.0</td>\n",
       "      <td>factsguide: society now    #motivation</td>\n",
       "      <td>factsguid societi now #motiv</td>\n",
       "    </tr>\n",
       "  </tbody>\n",
       "</table>\n",
       "</div>"
      ],
      "text/plain": [
       "   id  label  \\\n",
       "0   1    0.0   \n",
       "1   2    0.0   \n",
       "2   3    0.0   \n",
       "3   4    0.0   \n",
       "4   5    0.0   \n",
       "\n",
       "                                                                                                                        tweet  \\\n",
       "0                       @user when a father is dysfunctional and is so selfish he drags his kids into his dysfunction.   #run   \n",
       "1  @user @user thanks for #lyft credit i can't use cause they don't offer wheelchair vans in pdx.    #disapointed #getthanked   \n",
       "2                                                                                                         bihday your majesty   \n",
       "3                                      #model   i love u take with u all the time in urð±!!! ðððð\n",
       "ð¦ð¦ð¦     \n",
       "4                                                                                      factsguide: society now    #motivation   \n",
       "\n",
       "                                                                                  clean_tweet  \n",
       "0                          when father dysfunct and selfish drag hi kid into hi dysfunct #run  \n",
       "1  thank for #lyft credit can use caus they don offer wheelchair van pdx #disapoint #getthank  \n",
       "2                                                                         bihday your majesti  \n",
       "3                                                          #model love take with all the time  \n",
       "4                                                                factsguid societi now #motiv  "
      ]
     },
     "execution_count": 10,
     "metadata": {},
     "output_type": "execute_result"
    }
   ],
   "source": [
    "for i in range(len(tokenizer)):\n",
    "    tokenizer[i] = ' '.join(tokenizer[i])\n",
    "\n",
    "merge['clean_tweet'] = tokenizer\n",
    "merge.head()"
   ]
  },
  {
   "cell_type": "markdown",
   "metadata": {},
   "source": [
    "## pretrained word2Vec embedding"
   ]
  },
  {
   "cell_type": "code",
   "execution_count": 11,
   "metadata": {},
   "outputs": [
    {
     "data": {
      "text/plain": [
       "(6848696, 8343660)"
      ]
     },
     "execution_count": 11,
     "metadata": {},
     "output_type": "execute_result"
    }
   ],
   "source": [
    "tokenizer = merge['clean_tweet'].apply(lambda x: x.split())\n",
    "w2v = gensim.models.Word2Vec(\n",
    "    tokenizer,\n",
    "    size=200,\n",
    "    window=5,\n",
    "    min_count=2,\n",
    "    sg=1,\n",
    "    hs=0,\n",
    "    negative=10,\n",
    "    workers=2,\n",
    "    seed=34)\n",
    "\n",
    "w2v.train(tokenizer, total_examples=len(\n",
    "    merge['clean_tweet']), epochs=20)"
   ]
  },
  {
   "cell_type": "code",
   "execution_count": 12,
   "metadata": {},
   "outputs": [
    {
     "data": {
      "text/plain": [
       "[('#tvk', 0.7893652319908142),\n",
       " ('moh', 0.7843657732009888),\n",
       " ('#or', 0.770821750164032),\n",
       " ('sperm', 0.7694494724273682),\n",
       " ('#bruhz', 0.7608290314674377),\n",
       " ('hardwork', 0.7598657011985779),\n",
       " ('nikka', 0.7586596608161926),\n",
       " ('unborn', 0.756534993648529),\n",
       " ('do#', 0.7536560893058777),\n",
       " ('#myfath', 0.7515891194343567)]"
      ]
     },
     "execution_count": 12,
     "metadata": {},
     "output_type": "execute_result"
    }
   ],
   "source": [
    "w2v.wv.most_similar(positive=\"thanku\")"
   ]
  },
  {
   "cell_type": "code",
   "execution_count": 13,
   "metadata": {},
   "outputs": [
    {
     "data": {
      "text/plain": [
       "[('heterosexu', 0.5125511288642883),\n",
       " ('conniv', 0.5080918073654175),\n",
       " ('monger', 0.5042908787727356),\n",
       " ('muzzi', 0.5040757656097412),\n",
       " ('#bullshit', 0.5018444657325745),\n",
       " ('palpabl', 0.49950823187828064),\n",
       " ('freed', 0.49806785583496094),\n",
       " ('entrench', 0.4898492395877838),\n",
       " ('homo', 0.4889985918998718),\n",
       " ('persecut', 0.4863317012786865)]"
      ]
     },
     "execution_count": 13,
     "metadata": {},
     "output_type": "execute_result"
    }
   ],
   "source": [
    "w2v.wv.most_similar(positive=\"hate\")"
   ]
  },
  {
   "cell_type": "code",
   "execution_count": 14,
   "metadata": {},
   "outputs": [],
   "source": [
    "def word_vector(tokens, size):\n",
    "    vec = np.zeros(size).reshape((1, size))\n",
    "    count = 0.\n",
    "    for word in tokens:\n",
    "        try:\n",
    "            vec += w2v[word].reshape((1, size))\n",
    "            count += 1.\n",
    "        except KeyError:\n",
    "            continue\n",
    "    if count != 0:\n",
    "        vec /= count\n",
    "    return vec"
   ]
  },
  {
   "cell_type": "markdown",
   "metadata": {},
   "source": [
    "## Build embedding matrix"
   ]
  },
  {
   "cell_type": "code",
   "execution_count": 15,
   "metadata": {},
   "outputs": [
    {
     "data": {
      "text/html": [
       "<div>\n",
       "<style scoped>\n",
       "    .dataframe tbody tr th:only-of-type {\n",
       "        vertical-align: middle;\n",
       "    }\n",
       "\n",
       "    .dataframe tbody tr th {\n",
       "        vertical-align: top;\n",
       "    }\n",
       "\n",
       "    .dataframe thead th {\n",
       "        text-align: right;\n",
       "    }\n",
       "</style>\n",
       "<table border=\"1\" class=\"dataframe\">\n",
       "  <thead>\n",
       "    <tr style=\"text-align: right;\">\n",
       "      <th></th>\n",
       "      <th>0</th>\n",
       "      <th>1</th>\n",
       "      <th>2</th>\n",
       "      <th>3</th>\n",
       "      <th>4</th>\n",
       "      <th>5</th>\n",
       "      <th>6</th>\n",
       "      <th>7</th>\n",
       "      <th>8</th>\n",
       "      <th>9</th>\n",
       "      <th>...</th>\n",
       "      <th>190</th>\n",
       "      <th>191</th>\n",
       "      <th>192</th>\n",
       "      <th>193</th>\n",
       "      <th>194</th>\n",
       "      <th>195</th>\n",
       "      <th>196</th>\n",
       "      <th>197</th>\n",
       "      <th>198</th>\n",
       "      <th>199</th>\n",
       "    </tr>\n",
       "  </thead>\n",
       "  <tbody>\n",
       "    <tr>\n",
       "      <th>0</th>\n",
       "      <td>0.048658</td>\n",
       "      <td>-0.202171</td>\n",
       "      <td>-0.181720</td>\n",
       "      <td>0.079570</td>\n",
       "      <td>-0.114190</td>\n",
       "      <td>-0.135125</td>\n",
       "      <td>-0.212403</td>\n",
       "      <td>0.155440</td>\n",
       "      <td>-0.154242</td>\n",
       "      <td>-0.101276</td>\n",
       "      <td>...</td>\n",
       "      <td>0.391271</td>\n",
       "      <td>-0.117684</td>\n",
       "      <td>-0.207616</td>\n",
       "      <td>0.120884</td>\n",
       "      <td>-0.077013</td>\n",
       "      <td>0.002156</td>\n",
       "      <td>-0.144038</td>\n",
       "      <td>-0.154362</td>\n",
       "      <td>-0.049419</td>\n",
       "      <td>-0.276441</td>\n",
       "    </tr>\n",
       "    <tr>\n",
       "      <th>1</th>\n",
       "      <td>0.161216</td>\n",
       "      <td>-0.188144</td>\n",
       "      <td>-0.025467</td>\n",
       "      <td>-0.053964</td>\n",
       "      <td>-0.239415</td>\n",
       "      <td>-0.059375</td>\n",
       "      <td>-0.008538</td>\n",
       "      <td>0.084969</td>\n",
       "      <td>-0.075826</td>\n",
       "      <td>-0.111124</td>\n",
       "      <td>...</td>\n",
       "      <td>0.223302</td>\n",
       "      <td>-0.069635</td>\n",
       "      <td>-0.262258</td>\n",
       "      <td>-0.000950</td>\n",
       "      <td>-0.071145</td>\n",
       "      <td>-0.155165</td>\n",
       "      <td>0.033367</td>\n",
       "      <td>-0.085060</td>\n",
       "      <td>-0.080328</td>\n",
       "      <td>-0.326836</td>\n",
       "    </tr>\n",
       "    <tr>\n",
       "      <th>2</th>\n",
       "      <td>0.197876</td>\n",
       "      <td>0.122709</td>\n",
       "      <td>0.013416</td>\n",
       "      <td>-0.121780</td>\n",
       "      <td>-0.529438</td>\n",
       "      <td>0.007387</td>\n",
       "      <td>-0.210825</td>\n",
       "      <td>-0.115597</td>\n",
       "      <td>0.070998</td>\n",
       "      <td>-0.195317</td>\n",
       "      <td>...</td>\n",
       "      <td>0.504346</td>\n",
       "      <td>-0.214260</td>\n",
       "      <td>-0.232196</td>\n",
       "      <td>-0.061155</td>\n",
       "      <td>-0.238018</td>\n",
       "      <td>-0.234331</td>\n",
       "      <td>0.502332</td>\n",
       "      <td>0.049591</td>\n",
       "      <td>0.023292</td>\n",
       "      <td>-0.075443</td>\n",
       "    </tr>\n",
       "    <tr>\n",
       "      <th>3</th>\n",
       "      <td>-0.036365</td>\n",
       "      <td>0.061852</td>\n",
       "      <td>0.230953</td>\n",
       "      <td>-0.376555</td>\n",
       "      <td>-0.087846</td>\n",
       "      <td>-0.369571</td>\n",
       "      <td>-0.156768</td>\n",
       "      <td>0.000422</td>\n",
       "      <td>-0.040121</td>\n",
       "      <td>-0.145388</td>\n",
       "      <td>...</td>\n",
       "      <td>0.189210</td>\n",
       "      <td>0.057623</td>\n",
       "      <td>-0.126218</td>\n",
       "      <td>-0.117690</td>\n",
       "      <td>-0.058010</td>\n",
       "      <td>-0.434568</td>\n",
       "      <td>-0.156901</td>\n",
       "      <td>-0.173478</td>\n",
       "      <td>0.112262</td>\n",
       "      <td>-0.095145</td>\n",
       "    </tr>\n",
       "    <tr>\n",
       "      <th>4</th>\n",
       "      <td>0.096880</td>\n",
       "      <td>-0.072722</td>\n",
       "      <td>-0.165225</td>\n",
       "      <td>0.116795</td>\n",
       "      <td>-0.085686</td>\n",
       "      <td>-0.464188</td>\n",
       "      <td>-0.027680</td>\n",
       "      <td>-0.081519</td>\n",
       "      <td>0.027587</td>\n",
       "      <td>-0.148151</td>\n",
       "      <td>...</td>\n",
       "      <td>0.087546</td>\n",
       "      <td>-0.263118</td>\n",
       "      <td>-0.267724</td>\n",
       "      <td>-0.003643</td>\n",
       "      <td>-0.174622</td>\n",
       "      <td>-0.341337</td>\n",
       "      <td>-0.229726</td>\n",
       "      <td>-0.175994</td>\n",
       "      <td>0.258453</td>\n",
       "      <td>-0.298212</td>\n",
       "    </tr>\n",
       "    <tr>\n",
       "      <th>...</th>\n",
       "      <td>...</td>\n",
       "      <td>...</td>\n",
       "      <td>...</td>\n",
       "      <td>...</td>\n",
       "      <td>...</td>\n",
       "      <td>...</td>\n",
       "      <td>...</td>\n",
       "      <td>...</td>\n",
       "      <td>...</td>\n",
       "      <td>...</td>\n",
       "      <td>...</td>\n",
       "      <td>...</td>\n",
       "      <td>...</td>\n",
       "      <td>...</td>\n",
       "      <td>...</td>\n",
       "      <td>...</td>\n",
       "      <td>...</td>\n",
       "      <td>...</td>\n",
       "      <td>...</td>\n",
       "      <td>...</td>\n",
       "      <td>...</td>\n",
       "    </tr>\n",
       "    <tr>\n",
       "      <th>42612</th>\n",
       "      <td>-0.194203</td>\n",
       "      <td>-0.015065</td>\n",
       "      <td>0.035718</td>\n",
       "      <td>0.005821</td>\n",
       "      <td>-0.346348</td>\n",
       "      <td>-0.220824</td>\n",
       "      <td>-0.000766</td>\n",
       "      <td>-0.027788</td>\n",
       "      <td>-0.299515</td>\n",
       "      <td>-0.325230</td>\n",
       "      <td>...</td>\n",
       "      <td>0.131986</td>\n",
       "      <td>-0.332530</td>\n",
       "      <td>-0.135541</td>\n",
       "      <td>0.006666</td>\n",
       "      <td>0.006587</td>\n",
       "      <td>-0.334310</td>\n",
       "      <td>-0.147997</td>\n",
       "      <td>-0.012234</td>\n",
       "      <td>0.007743</td>\n",
       "      <td>-0.358315</td>\n",
       "    </tr>\n",
       "    <tr>\n",
       "      <th>42613</th>\n",
       "      <td>0.102318</td>\n",
       "      <td>0.055675</td>\n",
       "      <td>-0.054192</td>\n",
       "      <td>0.080189</td>\n",
       "      <td>-0.137328</td>\n",
       "      <td>-0.316564</td>\n",
       "      <td>-0.319004</td>\n",
       "      <td>-0.124664</td>\n",
       "      <td>-0.010476</td>\n",
       "      <td>0.123804</td>\n",
       "      <td>...</td>\n",
       "      <td>0.050349</td>\n",
       "      <td>-0.464633</td>\n",
       "      <td>0.072548</td>\n",
       "      <td>-0.069748</td>\n",
       "      <td>-0.106745</td>\n",
       "      <td>-0.135764</td>\n",
       "      <td>0.008064</td>\n",
       "      <td>0.063410</td>\n",
       "      <td>0.015050</td>\n",
       "      <td>-0.350050</td>\n",
       "    </tr>\n",
       "    <tr>\n",
       "      <th>42614</th>\n",
       "      <td>0.144918</td>\n",
       "      <td>0.037899</td>\n",
       "      <td>-0.055017</td>\n",
       "      <td>0.008227</td>\n",
       "      <td>-0.350133</td>\n",
       "      <td>-0.083831</td>\n",
       "      <td>-0.183068</td>\n",
       "      <td>0.002718</td>\n",
       "      <td>-0.173581</td>\n",
       "      <td>-0.192584</td>\n",
       "      <td>...</td>\n",
       "      <td>0.271304</td>\n",
       "      <td>-0.213574</td>\n",
       "      <td>-0.100753</td>\n",
       "      <td>-0.114772</td>\n",
       "      <td>-0.216112</td>\n",
       "      <td>-0.329217</td>\n",
       "      <td>0.011122</td>\n",
       "      <td>-0.142268</td>\n",
       "      <td>0.045025</td>\n",
       "      <td>-0.207510</td>\n",
       "    </tr>\n",
       "    <tr>\n",
       "      <th>42615</th>\n",
       "      <td>0.168910</td>\n",
       "      <td>-0.013747</td>\n",
       "      <td>0.107199</td>\n",
       "      <td>-0.055501</td>\n",
       "      <td>-0.143854</td>\n",
       "      <td>-0.133530</td>\n",
       "      <td>0.005309</td>\n",
       "      <td>-0.038844</td>\n",
       "      <td>-0.066847</td>\n",
       "      <td>-0.151546</td>\n",
       "      <td>...</td>\n",
       "      <td>0.083399</td>\n",
       "      <td>-0.245785</td>\n",
       "      <td>-0.039321</td>\n",
       "      <td>0.061994</td>\n",
       "      <td>-0.027155</td>\n",
       "      <td>-0.179003</td>\n",
       "      <td>0.130845</td>\n",
       "      <td>-0.222473</td>\n",
       "      <td>0.032447</td>\n",
       "      <td>-0.345887</td>\n",
       "    </tr>\n",
       "    <tr>\n",
       "      <th>42616</th>\n",
       "      <td>-0.023857</td>\n",
       "      <td>0.094665</td>\n",
       "      <td>0.019255</td>\n",
       "      <td>-0.027211</td>\n",
       "      <td>-0.297771</td>\n",
       "      <td>-0.327362</td>\n",
       "      <td>-0.125413</td>\n",
       "      <td>-0.013617</td>\n",
       "      <td>-0.094169</td>\n",
       "      <td>-0.039107</td>\n",
       "      <td>...</td>\n",
       "      <td>0.212174</td>\n",
       "      <td>0.044629</td>\n",
       "      <td>-0.053521</td>\n",
       "      <td>0.066454</td>\n",
       "      <td>-0.161674</td>\n",
       "      <td>-0.219981</td>\n",
       "      <td>-0.115663</td>\n",
       "      <td>-0.173747</td>\n",
       "      <td>0.051631</td>\n",
       "      <td>-0.372434</td>\n",
       "    </tr>\n",
       "  </tbody>\n",
       "</table>\n",
       "<p>42617 rows × 200 columns</p>\n",
       "</div>"
      ],
      "text/plain": [
       "            0         1         2         3         4         5         6    \\\n",
       "0      0.048658 -0.202171 -0.181720  0.079570 -0.114190 -0.135125 -0.212403   \n",
       "1      0.161216 -0.188144 -0.025467 -0.053964 -0.239415 -0.059375 -0.008538   \n",
       "2      0.197876  0.122709  0.013416 -0.121780 -0.529438  0.007387 -0.210825   \n",
       "3     -0.036365  0.061852  0.230953 -0.376555 -0.087846 -0.369571 -0.156768   \n",
       "4      0.096880 -0.072722 -0.165225  0.116795 -0.085686 -0.464188 -0.027680   \n",
       "...         ...       ...       ...       ...       ...       ...       ...   \n",
       "42612 -0.194203 -0.015065  0.035718  0.005821 -0.346348 -0.220824 -0.000766   \n",
       "42613  0.102318  0.055675 -0.054192  0.080189 -0.137328 -0.316564 -0.319004   \n",
       "42614  0.144918  0.037899 -0.055017  0.008227 -0.350133 -0.083831 -0.183068   \n",
       "42615  0.168910 -0.013747  0.107199 -0.055501 -0.143854 -0.133530  0.005309   \n",
       "42616 -0.023857  0.094665  0.019255 -0.027211 -0.297771 -0.327362 -0.125413   \n",
       "\n",
       "            7         8         9    ...       190       191       192  \\\n",
       "0      0.155440 -0.154242 -0.101276  ...  0.391271 -0.117684 -0.207616   \n",
       "1      0.084969 -0.075826 -0.111124  ...  0.223302 -0.069635 -0.262258   \n",
       "2     -0.115597  0.070998 -0.195317  ...  0.504346 -0.214260 -0.232196   \n",
       "3      0.000422 -0.040121 -0.145388  ...  0.189210  0.057623 -0.126218   \n",
       "4     -0.081519  0.027587 -0.148151  ...  0.087546 -0.263118 -0.267724   \n",
       "...         ...       ...       ...  ...       ...       ...       ...   \n",
       "42612 -0.027788 -0.299515 -0.325230  ...  0.131986 -0.332530 -0.135541   \n",
       "42613 -0.124664 -0.010476  0.123804  ...  0.050349 -0.464633  0.072548   \n",
       "42614  0.002718 -0.173581 -0.192584  ...  0.271304 -0.213574 -0.100753   \n",
       "42615 -0.038844 -0.066847 -0.151546  ...  0.083399 -0.245785 -0.039321   \n",
       "42616 -0.013617 -0.094169 -0.039107  ...  0.212174  0.044629 -0.053521   \n",
       "\n",
       "            193       194       195       196       197       198       199  \n",
       "0      0.120884 -0.077013  0.002156 -0.144038 -0.154362 -0.049419 -0.276441  \n",
       "1     -0.000950 -0.071145 -0.155165  0.033367 -0.085060 -0.080328 -0.326836  \n",
       "2     -0.061155 -0.238018 -0.234331  0.502332  0.049591  0.023292 -0.075443  \n",
       "3     -0.117690 -0.058010 -0.434568 -0.156901 -0.173478  0.112262 -0.095145  \n",
       "4     -0.003643 -0.174622 -0.341337 -0.229726 -0.175994  0.258453 -0.298212  \n",
       "...         ...       ...       ...       ...       ...       ...       ...  \n",
       "42612  0.006666  0.006587 -0.334310 -0.147997 -0.012234  0.007743 -0.358315  \n",
       "42613 -0.069748 -0.106745 -0.135764  0.008064  0.063410  0.015050 -0.350050  \n",
       "42614 -0.114772 -0.216112 -0.329217  0.011122 -0.142268  0.045025 -0.207510  \n",
       "42615  0.061994 -0.027155 -0.179003  0.130845 -0.222473  0.032447 -0.345887  \n",
       "42616  0.066454 -0.161674 -0.219981 -0.115663 -0.173747  0.051631 -0.372434  \n",
       "\n",
       "[42617 rows x 200 columns]"
      ]
     },
     "execution_count": 15,
     "metadata": {},
     "output_type": "execute_result"
    }
   ],
   "source": [
    "embedding_matrix = np.zeros((len(tokenizer), 200))\n",
    "\n",
    "for i in range(len(tokenizer)):\n",
    "    embedding_matrix[i,:] = word_vector(tokenizer[i], 200)\n",
    "    \n",
    "wordvec_df = pd.DataFrame(embedding_matrix)\n",
    "wordvec_df"
   ]
  },
  {
   "cell_type": "markdown",
   "metadata": {},
   "source": [
    "# Build Model "
   ]
  },
  {
   "cell_type": "code",
   "execution_count": 16,
   "metadata": {},
   "outputs": [],
   "source": [
    "MODEL_ID = []\n",
    "Accuracy = []\n",
    "LOG_CV_ERR = []\n",
    "F1Score = []\n",
    "\n",
    "\n",
    "def calculate_log_cv_error(logmodel, X_train, y_train):\n",
    "    ms_errors = cross_val_score(\n",
    "        logmodel, X_train, y_train, cv=5, scoring=make_scorer(mean_squared_error))\n",
    "    rms_errors = np.sqrt(ms_errors)\n",
    "    mean_rms_error = rms_errors.mean()\n",
    "    return mean_rms_error\n",
    "\n",
    "\n",
    "def evaluate_model(logmodel, X_train, X_test, y_train, y_test, predictions):\n",
    "    log_cv_error = calculate_log_cv_error(logmodel, X_train, y_train)\n",
    "    print(\n",
    "        f'\\nClassification Report:\\n{classification_report(y_test,predictions)}')\n",
    "    print('')\n",
    "    print(f'\\nAccuracy Score:  {accuracy_score(y_test,predictions)}')\n",
    "    print(\"F1 Score: \", f1_score(yvalid, predictions))\n",
    "    print(\"Cross Validation Error: \", log_cv_error)\n",
    "    print('')\n",
    "    sns.set()\n",
    "    f, ax = plt.subplots()\n",
    "    sns.heatmap(confusion_matrix(y_test, predictions), annot=True, ax=ax)\n",
    "    ax.set_title('confusion matrix')\n",
    "    ax.set_xlabel('predict')\n",
    "    ax.set_ylabel('true')\n",
    "    logit_roc_auc = roc_auc_score(y_test, logmodel.predict(X_test))\n",
    "    fpr, tpr, thresholds = roc_curve(\n",
    "        y_test, logmodel.predict_proba(X_test)[:, 1])\n",
    "    LOG_CV_ERR.append(log_cv_error)\n",
    "    plt.figure()\n",
    "    plt.plot(fpr, tpr, label='ROC curve (area = %0.2f)' %\n",
    "             logit_roc_auc)\n",
    "    plt.plot([0, 1], [0, 1], 'r--')\n",
    "    plt.xlim([0.0, 1.0])\n",
    "    plt.ylim([0.0, 1.05])\n",
    "    plt.xlabel('False Positive Rate')\n",
    "    plt.ylabel('True Positive Rate')\n",
    "    plt.title('ROC')\n",
    "    plt.legend(loc=\"lower right\")\n",
    "    plt.show()"
   ]
  },
  {
   "cell_type": "code",
   "execution_count": 17,
   "metadata": {},
   "outputs": [],
   "source": [
    "train_w2v = wordvec_df.iloc[:31962, :]\n",
    "test_w2v = wordvec_df.iloc[31962:, :]\n",
    "\n",
    "xtrain_w2v, xvalid_w2v, ytrain, yvalid = train_test_split(train_w2v, train_data['label'],\n",
    "                                                          random_state=42,\n",
    "                                                          test_size=0.25)\n",
    "\n",
    "xtrain_w2v = train_w2v.iloc[ytrain.index, :]\n",
    "xvalid_w2v = train_w2v.iloc[yvalid.index, :]"
   ]
  },
  {
   "cell_type": "markdown",
   "metadata": {},
   "source": [
    "## Logistic Regression"
   ]
  },
  {
   "cell_type": "code",
   "execution_count": 18,
   "metadata": {},
   "outputs": [
    {
     "name": "stdout",
     "output_type": "stream",
     "text": [
      "\n",
      "Classification Report:\n",
      "              precision    recall  f1-score   support\n",
      "\n",
      "           0       0.97      0.97      0.97      7432\n",
      "           1       0.62      0.62      0.62       559\n",
      "\n",
      "    accuracy                           0.95      7991\n",
      "   macro avg       0.79      0.80      0.79      7991\n",
      "weighted avg       0.95      0.95      0.95      7991\n",
      "\n",
      "\n",
      "\n",
      "Accuracy Score:  0.9464397447128019\n",
      "F1 Score:  0.6185383244206774\n",
      "Cross Validation Error:  0.21834816910611546\n",
      "\n"
     ]
    },
    {
     "data": {
      "image/png": "[encoded data removed]",
      "text/plain": [
       "<Figure size 432x288 with 2 Axes>"
      ]
     },
     "metadata": {},
     "output_type": "display_data"
    },
    {
     "data": {
      "image/png": "[encoded data removed]",
      "text/plain": [
       "<Figure size 432x288 with 1 Axes>"
      ]
     },
     "metadata": {},
     "output_type": "display_data"
    }
   ],
   "source": [
    "lreg = LogisticRegression()\n",
    "lreg.fit(xtrain_w2v, ytrain)\n",
    "prediction = lreg.predict_proba(xvalid_w2v)\n",
    "prediction_int = prediction[:, 1] >= 0.3\n",
    "prediction_int = prediction_int.astype(np.int)\n",
    "\n",
    "evaluate_model(lreg, xtrain_w2v, xvalid_w2v, ytrain, yvalid, prediction_int)\n",
    "MODEL_ID.append('Logistic Regression')\n",
    "Accuracy.append(accuracy_score(yvalid, prediction_int))\n",
    "F1Score.append(f1_score(yvalid, prediction_int))"
   ]
  },
  {
   "cell_type": "markdown",
   "metadata": {},
   "source": [
    "##  Naive Bayes"
   ]
  },
  {
   "cell_type": "code",
   "execution_count": 19,
   "metadata": {},
   "outputs": [
    {
     "name": "stdout",
     "output_type": "stream",
     "text": [
      "\n",
      "Classification Report:\n",
      "              precision    recall  f1-score   support\n",
      "\n",
      "           0       0.98      0.85      0.91      7432\n",
      "           1       0.29      0.82      0.43       559\n",
      "\n",
      "    accuracy                           0.85      7991\n",
      "   macro avg       0.64      0.84      0.67      7991\n",
      "weighted avg       0.94      0.85      0.88      7991\n",
      "\n",
      "\n",
      "\n",
      "Accuracy Score:  0.8458265548742335\n",
      "F1 Score:  0.42804085422469823\n",
      "Cross Validation Error:  0.3699406484455461\n",
      "\n"
     ]
    },
    {
     "data": {
      "image/png": "[encoded data removed]",
      "text/plain": [
       "<Figure size 432x288 with 2 Axes>"
      ]
     },
     "metadata": {},
     "output_type": "display_data"
    },
    {
     "data": {
      "image/png": "[encoded data removed]",
      "text/plain": [
       "<Figure size 432x288 with 1 Axes>"
      ]
     },
     "metadata": {},
     "output_type": "display_data"
    }
   ],
   "source": [
    "model = BernoulliNB()\n",
    "model.fit(xtrain_w2v, ytrain)\n",
    "prediction = model.predict_proba(xvalid_w2v)\n",
    "prediction_int = prediction[:,1] >= 0.3\n",
    "prediction_int = prediction_int.astype(np.int)\n",
    "\n",
    "evaluate_model(model,xtrain_w2v,xvalid_w2v,ytrain,yvalid,prediction_int)\n",
    "MODEL_ID.append('Naive Bayes')\n",
    "Accuracy.append(accuracy_score(yvalid, prediction_int))\n",
    "F1Score.append(f1_score(yvalid, prediction_int))"
   ]
  },
  {
   "cell_type": "markdown",
   "metadata": {},
   "source": [
    "## SVM"
   ]
  },
  {
   "cell_type": "code",
   "execution_count": 20,
   "metadata": {},
   "outputs": [
    {
     "name": "stdout",
     "output_type": "stream",
     "text": [
      "\n",
      "Classification Report:\n",
      "              precision    recall  f1-score   support\n",
      "\n",
      "           0       0.97      0.97      0.97      7432\n",
      "           1       0.64      0.59      0.61       559\n",
      "\n",
      "    accuracy                           0.95      7991\n",
      "   macro avg       0.80      0.78      0.79      7991\n",
      "weighted avg       0.95      0.95      0.95      7991\n",
      "\n",
      "\n",
      "\n",
      "Accuracy Score:  0.947691152546615\n",
      "F1 Score:  0.6129629629629629\n",
      "Cross Validation Error:  0.2174741886730805\n",
      "\n"
     ]
    },
    {
     "data": {
      "image/png": "[encoded data removed]",
      "text/plain": [
       "<Figure size 432x288 with 2 Axes>"
      ]
     },
     "metadata": {},
     "output_type": "display_data"
    },
    {
     "data": {
      "image/png": "[encoded data removed]",
      "text/plain": [
       "<Figure size 432x288 with 1 Axes>"
      ]
     },
     "metadata": {},
     "output_type": "display_data"
    }
   ],
   "source": [
    "svc = svm.SVC(kernel='linear', C=1, probability=True).fit(xtrain_w2v, ytrain)\n",
    "prediction = svc.predict_proba(xvalid_w2v)\n",
    "prediction_int = prediction[:,1] >= 0.3\n",
    "prediction_int = prediction_int.astype(np.int)\n",
    "\n",
    "evaluate_model(svc,xtrain_w2v,xvalid_w2v,ytrain,yvalid,prediction_int)\n",
    "MODEL_ID.append('SVM Classifier')\n",
    "Accuracy.append(accuracy_score(yvalid, prediction_int))\n",
    "F1Score.append(f1_score(yvalid, prediction_int))"
   ]
  },
  {
   "cell_type": "markdown",
   "metadata": {},
   "source": [
    "## Random Forest"
   ]
  },
  {
   "cell_type": "code",
   "execution_count": 21,
   "metadata": {},
   "outputs": [
    {
     "name": "stdout",
     "output_type": "stream",
     "text": [
      "\n",
      "Classification Report:\n",
      "              precision    recall  f1-score   support\n",
      "\n",
      "           0       0.95      1.00      0.98      7432\n",
      "           1       0.94      0.35      0.51       559\n",
      "\n",
      "    accuracy                           0.95      7991\n",
      "   macro avg       0.95      0.68      0.74      7991\n",
      "weighted avg       0.95      0.95      0.94      7991\n",
      "\n",
      "\n",
      "\n",
      "Accuracy Score:  0.9531973470153923\n",
      "F1 Score:  0.5142857142857143\n",
      "Cross Validation Error:  0.21915927715950795\n",
      "\n"
     ]
    },
    {
     "data": {
      "image/png": "[encoded data removed]",
      "text/plain": [
       "<Figure size 432x288 with 2 Axes>"
      ]
     },
     "metadata": {},
     "output_type": "display_data"
    },
    {
     "data": {
      "image/png": "[encoded data removed]",
      "text/plain": [
       "<Figure size 432x288 with 1 Axes>"
      ]
     },
     "metadata": {},
     "output_type": "display_data"
    }
   ],
   "source": [
    "rf = RandomForestClassifier(n_estimators=400, random_state=12).fit(xtrain_w2v, ytrain)\n",
    "prediction = rf.predict(xvalid_w2v)\n",
    "\n",
    "evaluate_model(rf,xtrain_w2v,xvalid_w2v,ytrain,yvalid,prediction)\n",
    "MODEL_ID.append('Random Forest Classifier')\n",
    "Accuracy.append(accuracy_score(yvalid, prediction))\n",
    "F1Score.append(f1_score(yvalid, prediction))"
   ]
  },
  {
   "cell_type": "markdown",
   "metadata": {},
   "source": [
    "##  XGBoost"
   ]
  },
  {
   "cell_type": "code",
   "execution_count": 22,
   "metadata": {},
   "outputs": [
    {
     "name": "stdout",
     "output_type": "stream",
     "text": [
      "\n",
      "Classification Report:\n",
      "              precision    recall  f1-score   support\n",
      "\n",
      "           0       0.97      0.99      0.98      7432\n",
      "           1       0.83      0.54      0.66       559\n",
      "\n",
      "    accuracy                           0.96      7991\n",
      "   macro avg       0.90      0.77      0.82      7991\n",
      "weighted avg       0.96      0.96      0.96      7991\n",
      "\n",
      "\n",
      "\n",
      "Accuracy Score:  0.9603303716681266\n",
      "F1 Score:  0.656554712892741\n",
      "Cross Validation Error:  0.19556209594363785\n",
      "\n"
     ]
    },
    {
     "data": {
      "image/png": "[encoded data removed]",
      "text/plain": [
       "<Figure size 432x288 with 2 Axes>"
      ]
     },
     "metadata": {},
     "output_type": "display_data"
    },
    {
     "data": {
      "image/png": "[encoded data removed]",
      "text/plain": [
       "<Figure size 432x288 with 1 Axes>"
      ]
     },
     "metadata": {},
     "output_type": "display_data"
    }
   ],
   "source": [
    "xgb = XGBClassifier(max_depth=6, n_estimators=1000, nthread= 3).fit(xtrain_w2v, ytrain)\n",
    "prediction = xgb.predict(xvalid_w2v)\n",
    "\n",
    "evaluate_model(xgb,xtrain_w2v,xvalid_w2v,ytrain,yvalid,prediction)\n",
    "MODEL_ID.append('XGBoost')\n",
    "Accuracy.append(accuracy_score(yvalid, prediction))\n",
    "F1Score.append(f1_score(yvalid, prediction))"
   ]
  },
  {
   "cell_type": "code",
   "execution_count": 23,
   "metadata": {},
   "outputs": [
    {
     "data": {
      "text/html": [
       "<div>\n",
       "<style scoped>\n",
       "    .dataframe tbody tr th:only-of-type {\n",
       "        vertical-align: middle;\n",
       "    }\n",
       "\n",
       "    .dataframe tbody tr th {\n",
       "        vertical-align: top;\n",
       "    }\n",
       "\n",
       "    .dataframe thead th {\n",
       "        text-align: right;\n",
       "    }\n",
       "</style>\n",
       "<table border=\"1\" class=\"dataframe\">\n",
       "  <thead>\n",
       "    <tr style=\"text-align: right;\">\n",
       "      <th></th>\n",
       "      <th>Model_ID</th>\n",
       "      <th>F1Score</th>\n",
       "      <th>Accuracy</th>\n",
       "    </tr>\n",
       "  </thead>\n",
       "  <tbody>\n",
       "    <tr>\n",
       "      <th>0</th>\n",
       "      <td>Logistic Regression</td>\n",
       "      <td>0.618538</td>\n",
       "      <td>0.946440</td>\n",
       "    </tr>\n",
       "    <tr>\n",
       "      <th>1</th>\n",
       "      <td>Naive Bayes</td>\n",
       "      <td>0.428041</td>\n",
       "      <td>0.845827</td>\n",
       "    </tr>\n",
       "    <tr>\n",
       "      <th>2</th>\n",
       "      <td>SVM Classifier</td>\n",
       "      <td>0.612963</td>\n",
       "      <td>0.947691</td>\n",
       "    </tr>\n",
       "    <tr>\n",
       "      <th>3</th>\n",
       "      <td>Random Forest Classifier</td>\n",
       "      <td>0.514286</td>\n",
       "      <td>0.953197</td>\n",
       "    </tr>\n",
       "    <tr>\n",
       "      <th>4</th>\n",
       "      <td>XGBoost</td>\n",
       "      <td>0.656555</td>\n",
       "      <td>0.960330</td>\n",
       "    </tr>\n",
       "  </tbody>\n",
       "</table>\n",
       "</div>"
      ],
      "text/plain": [
       "                   Model_ID   F1Score  Accuracy\n",
       "0       Logistic Regression  0.618538  0.946440\n",
       "1               Naive Bayes  0.428041  0.845827\n",
       "2            SVM Classifier  0.612963  0.947691\n",
       "3  Random Forest Classifier  0.514286  0.953197\n",
       "4                   XGBoost  0.656555  0.960330"
      ]
     },
     "execution_count": 23,
     "metadata": {},
     "output_type": "execute_result"
    }
   ],
   "source": [
    "baseline = pd.DataFrame({'Model_ID':MODEL_ID, 'F1Score':F1Score,'Accuracy':Accuracy})\n",
    "baseline"
   ]
  }
 ],
 "metadata": {
  "kernelspec": {
   "display_name": "Python 3",
   "language": "python",
   "name": "python3"
  },
  "language_info": {
   "codemirror_mode": {
    "name": "ipython",
    "version": 3
   },
   "file_extension": ".py",
   "mimetype": "text/x-python",
   "name": "python",
   "nbconvert_exporter": "python",
   "pygments_lexer": "ipython3",
   "version": "3.8.6"
  },
  "toc": {
   "base_numbering": 1,
   "nav_menu": {},
   "number_sections": true,
   "sideBar": true,
   "skip_h1_title": false,
   "title_cell": "Table of Contents",
   "title_sidebar": "Contents",
   "toc_cell": false,
   "toc_position": {},
   "toc_section_display": true,
   "toc_window_display": false
  }
 },
 "nbformat": 4,
 "nbformat_minor": 4
}
